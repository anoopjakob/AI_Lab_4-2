{
  "nbformat": 4,
  "nbformat_minor": 0,
  "metadata": {
    "colab": {
      "name": "AI_Lab_4.2.ipynb",
      "provenance": [],
      "collapsed_sections": [],
      "authorship_tag": "ABX9TyMOQsrJft8iWrPm6EG5ABs1",
      "include_colab_link": true
    },
    "kernelspec": {
      "name": "python3",
      "display_name": "Python 3"
    }
  },
  "cells": [
    {
      "cell_type": "markdown",
      "metadata": {
        "id": "view-in-github",
        "colab_type": "text"
      },
      "source": [
        "<a href=\"https://colab.research.google.com/github/anoopjakob/AI_Lab_4-2/blob/main/AI_Lab_4_2.ipynb\" target=\"_parent\"><img src=\"https://colab.research.google.com/assets/colab-badge.svg\" alt=\"Open In Colab\"/></a>"
      ]
    },
    {
      "cell_type": "markdown",
      "metadata": {
        "id": "EyYs58vXUIAi"
      },
      "source": [
        "**Question 2** :  Implement tic tac toe  using MINIMAX algorithm."
      ]
    },
    {
      "cell_type": "code",
      "metadata": {
        "id": "aAkxBvCyhQ7K"
      },
      "source": [
        "import numpy as np"
      ],
      "execution_count": 1,
      "outputs": []
    },
    {
      "cell_type": "code",
      "metadata": {
        "id": "nHoabRV0cS1D"
      },
      "source": [
        "maxplayer = 'X'\r\n",
        "minplayer = 'O'\r\n",
        "\r\n",
        "\r\n",
        "# checking the status of the current play level. \r\n",
        "\r\n",
        "def findVictory(b) : \r\n",
        "\r\n",
        "  # ROW victory\r\n",
        "\tfor row in range(3) :\t \r\n",
        "\t\tif (b[row][0] == b[row][1] and b[row][1] == b[row][2]) :\t \r\n",
        "\t\t\tif (b[row][0] == maxplayer) :\r\n",
        "\t\t\t\treturn 10\r\n",
        "\t\t\telif (b[row][0] == minplayer) :\r\n",
        "\t\t\t\treturn -10\r\n",
        "  # column victory\r\n",
        "\tfor col in range(3) :\r\n",
        "\t\r\n",
        "\t\tif (b[0][col] == b[1][col] and b[1][col] == b[2][col]) :\r\n",
        "\t\t\r\n",
        "\t\t\tif (b[0][col] == maxplayer) : \r\n",
        "\t\t\t\treturn 10\r\n",
        "\t\t\telif (b[0][col] == minplayer) :\r\n",
        "\t\t\t\treturn -10\r\n",
        "  # diagonal victory\r\n",
        "\tif (b[0][0] == b[1][1] and b[1][1] == b[2][2]) :\r\n",
        "\t\r\n",
        "\t\tif (b[0][0] == maxplayer) :\r\n",
        "\t\t\treturn 10\r\n",
        "\t\telif (b[0][0] == minplayer) :\r\n",
        "\t\t\treturn -10\r\n",
        "  #  diagonal victory\r\n",
        "\tif (b[0][2] == b[1][1] and b[1][1] == b[2][0]) :\r\n",
        "\t\r\n",
        "\t\tif (b[0][2] == maxplayer) :\r\n",
        "\t\t\treturn 10\r\n",
        "\t\telif (b[0][2] == minplayer) :\r\n",
        "\t\t\treturn -10\r\n",
        "\r\n",
        "\treturn 0\r\n",
        "\r\n",
        "# to find is there any spaces left to fill \r\n",
        "def checkSpacesLeft(board) : \r\n",
        "\r\n",
        "\tfor i in range(3) :\r\n",
        "\t\tfor j in range(3) :\r\n",
        "\t\t\tif (board[i][j] == '_') :\r\n",
        "\t\t\t\treturn True\r\n",
        "\treturn False\r\n",
        "\r\n",
        "# minmax based on recursion..\r\n",
        "def MINIMAX(board, depth, togglePlayer) : \r\n",
        "  \r\n",
        "  # to find if anyone won \r\n",
        "\tscore = findVictory(board)\r\n",
        "\r\n",
        "\tif (score == 10) : \r\n",
        "\t\treturn score\r\n",
        "\r\n",
        "\tif (score == -10) :\r\n",
        "\t\treturn score\r\n",
        "\r\n",
        "\tif (checkSpacesLeft(board) == False) :\r\n",
        "\t\treturn 0\r\n",
        "  # as part of the alogorithm it checks for won ? lost ? or is there spaces left?\r\n",
        "  # if they are all false it checks the turn .. min or max\r\n",
        "\tif (togglePlayer) :\t \r\n",
        "\t\tbest = -1000\r\n",
        "    # best is set to -1000 to select the next maximum value which is obviously greater than - 1000\r\n",
        "\r\n",
        "\t\tfor i in range(3) :\t\t \r\n",
        "\t\t\tfor j in range(3) :\r\n",
        "\t\t\t\r\n",
        "\t\t\t\tif (board[i][j]=='_') :\r\n",
        "\t\t\t\t\r\n",
        "\t\t\t\t\tboard[i][j] = maxplayer\r\n",
        "          # here recursiion takes place.. to check all the depths to get the optimum route\r\n",
        "          # here for maximum is taken as it is for max player\r\n",
        "\t\t\t\t\tbest = max( best, MINIMAX(board,\r\n",
        "\t\t\t\t\t\t\t\t\t\t\tdepth + 1,\r\n",
        "\t\t\t\t\t\t\t\t\t\t\tnot togglePlayer) )\r\n",
        "\r\n",
        "\t\t\t\t\tboard[i][j] = '_'\r\n",
        "\t\treturn best\r\n",
        "\r\n",
        "\telse :\r\n",
        "    # the value is not even nearer to 100\r\n",
        "    # it is set to select the next minimum value\r\n",
        "\t\tbest = 1000\r\n",
        "\r\n",
        "\t\tfor i in range(3) :\t\t \r\n",
        "\t\t\tfor j in range(3) :\r\n",
        "        \r\n",
        "        # checks if a particluar space is filled\r\n",
        "\t\t\t\tif (board[i][j] == '_') :\r\n",
        "\t\t\t\t\r\n",
        "\t\t\t\t\tboard[i][j] = minplayer\r\n",
        "\r\n",
        "          # here recursiion takes place.. to check all the depths to get the optimum route\r\n",
        "          # here for minimum is taken as it is for min player\r\n",
        "\t\t\t\t\tbest = min(best, MINIMAX(board, depth + 1, not togglePlayer))\r\n",
        "\r\n",
        "\t\t\t\t\tboard[i][j] = '_'\r\n",
        "          # to clear the particular space which is being tested on\r\n",
        "\t\treturn best\r\n",
        "\r\n",
        "# this function finds the best route \r\n",
        "# this function also sets the depths..\\\r\n",
        "# starts from depth 0\r\n",
        "def findBestMove(board) : \r\n",
        "\tbestVal = -1000\r\n",
        "\tbestMove = (-1, -1) \r\n",
        "  # here best move is set as (-1, -1) tuple.. so that when greater than applied it will surely change\r\n",
        "\tfor i in range(3) :\t \r\n",
        "\t\tfor j in range(3) :\r\n",
        "\t\t\r\n",
        "\t\t\tif (board[i][j] == '_') : \r\n",
        "\t\t\t\r\n",
        "\t\t\t\tboard[i][j] = maxplayer\r\n",
        "\r\n",
        "        # here the moveval is set to get the best value.. from minimax. and depth 0.. \r\n",
        "        # togglePlayer is set to False as first play is by the Opponent\r\n",
        "\t\t\t\tmoveVal = MINIMAX(board, 0, False) \r\n",
        "\r\n",
        "\t\t\t\tboard[i][j] = '_'\r\n",
        "        # to clear the space after all the calculations\r\n",
        "\r\n",
        "\t\t\t\tif (moveVal > bestVal) :\t\t\t \r\n",
        "\t\t\t\t\tbestMove = (i, j)\r\n",
        "\t\t\t\t\tbestVal = moveVal\r\n",
        "\treturn bestMove\r\n"
      ],
      "execution_count": 2,
      "outputs": []
    },
    {
      "cell_type": "code",
      "metadata": {
        "id": "nP5QjxPyBt-d"
      },
      "source": [
        "import numpy as np\r\n",
        "\r\n",
        "# This is defined as a function to play the game ..\r\n",
        "def play():\r\n",
        "  print('area 1')\r\n",
        "  count = 0\r\n",
        "  board = [\r\n",
        "    [ '_', '_', '_' ], \r\n",
        "    [ '_', '_', '_' ], \r\n",
        "    [ '_', '_', '_' ] \r\n",
        "  ]\r\n",
        "  # empty board on every single call of this function\r\n",
        "\r\n",
        "  print(\"Initial State:\\n {} \\n You are 'O', computer = 'X' \\n\".format(np.array(board)))\r\n",
        "\r\n",
        "  # first checking whether if any one has won\r\n",
        "  while(count < 100):\r\n",
        "    win = findVictory(board)\r\n",
        "    if(win==10):\r\n",
        "      print(\"Computer WON \")\r\n",
        "      break\r\n",
        "    if(win==-10):\r\n",
        "      print(\"YOU WON \")\r\n",
        "      break\r\n",
        "  \r\n",
        "    # to get the input values from human player\r\n",
        "    value1, value2 = input(\"Enter Position (ROW COLUMN) :\").split()\r\n",
        "\r\n",
        "    # as they are inputing the matrix level value. we convert it to the row level\r\n",
        "    i = int(value1)-1\r\n",
        "    j = int(value2)-1\r\n",
        "\r\n",
        "    #  testing to see if the data entered is valid\r\n",
        "    if i<0 or j <0 or i>2 or j>2:\r\n",
        "      print('Invalid value, row[1 2 3], column: [1,2,3]')\r\n",
        "      break \r\n",
        "    \r\n",
        "    # checking to see if the space is already filled\r\n",
        "    if board[i][j] == '_':\r\n",
        "      board[i][j] = minplayer\r\n",
        "    else:\r\n",
        "      print('Invalid Entry, already filled')\r\n",
        "      break\r\n",
        "    # finding the best move of computer\r\n",
        "    bestMove = findBestMove(board)\r\n",
        "    k,l = bestMove\r\n",
        "\r\n",
        "    # setting the space with the value of best move\r\n",
        "    board[k][l] = maxplayer\r\n",
        "    print(np.array(board))\r\n",
        "    \r\n",
        "    # checking to see if any space is left \r\n",
        "    if(checkSpacesLeft(board)==False):\r\n",
        "      print('DRAW')\r\n",
        "      break\r\n",
        "    count+=1\r\n"
      ],
      "execution_count": 3,
      "outputs": []
    },
    {
      "cell_type": "code",
      "metadata": {
        "colab": {
          "base_uri": "https://localhost:8080/"
        },
        "id": "fKHSFG8DBue_",
        "outputId": "3ae18c82-19b3-4f24-b499-457cb62d42b8"
      },
      "source": [
        "# DRAW CASE\r\n",
        "play()"
      ],
      "execution_count": 6,
      "outputs": [
        {
          "output_type": "stream",
          "text": [
            "area 1\n",
            "Initial State:\n",
            " [['_' '_' '_']\n",
            " ['_' '_' '_']\n",
            " ['_' '_' '_']] \n",
            " You are 'O', computer = 'X' \n",
            "\n",
            "Enter Position (ROW COLUMN) :1 1\n",
            "[['O' '_' '_']\n",
            " ['_' 'X' '_']\n",
            " ['_' '_' '_']]\n",
            "Enter Position (ROW COLUMN) :3 3\n",
            "[['O' 'X' '_']\n",
            " ['_' 'X' '_']\n",
            " ['_' '_' 'O']]\n",
            "Enter Position (ROW COLUMN) :3 2\n",
            "[['O' 'X' '_']\n",
            " ['_' 'X' '_']\n",
            " ['X' 'O' 'O']]\n",
            "Enter Position (ROW COLUMN) :1 3\n",
            "[['O' 'X' 'O']\n",
            " ['_' 'X' 'X']\n",
            " ['X' 'O' 'O']]\n",
            "Enter Position (ROW COLUMN) :2 1\n",
            "[['O' 'X' 'O']\n",
            " ['O' 'X' 'X']\n",
            " ['X' 'O' 'X']]\n",
            "DRAW\n"
          ],
          "name": "stdout"
        }
      ]
    },
    {
      "cell_type": "code",
      "metadata": {
        "colab": {
          "base_uri": "https://localhost:8080/"
        },
        "id": "dCCPoPIvB96B",
        "outputId": "f19ce357-c92d-4fe1-f089-3acbaf04fdb5"
      },
      "source": [
        "# computer won\r\n",
        "play()"
      ],
      "execution_count": 9,
      "outputs": [
        {
          "output_type": "stream",
          "text": [
            "area 1\n",
            "Initial State:\n",
            " [['_' '_' '_']\n",
            " ['_' '_' '_']\n",
            " ['_' '_' '_']] \n",
            " You are 'O', computer = 'X' \n",
            "\n",
            "Enter Position (ROW COLUMN) :2 2\n",
            "[['X' '_' '_']\n",
            " ['_' 'O' '_']\n",
            " ['_' '_' '_']]\n",
            "Enter Position (ROW COLUMN) :1 3\n",
            "[['X' '_' 'O']\n",
            " ['_' 'O' '_']\n",
            " ['X' '_' '_']]\n",
            "Enter Position (ROW COLUMN) :2 3\n",
            "[['X' '_' 'O']\n",
            " ['X' 'O' 'O']\n",
            " ['X' '_' '_']]\n",
            "Computer WON \n"
          ],
          "name": "stdout"
        }
      ]
    },
    {
      "cell_type": "code",
      "metadata": {
        "colab": {
          "base_uri": "https://localhost:8080/"
        },
        "id": "tTESKiUUCW7w",
        "outputId": "13cb23cb-672b-4636-9d62-e6bf8ad31cd6"
      },
      "source": [
        "play()\r\n",
        "# I can't win :("
      ],
      "execution_count": 10,
      "outputs": [
        {
          "output_type": "stream",
          "text": [
            "area 1\n",
            "Initial State:\n",
            " [['_' '_' '_']\n",
            " ['_' '_' '_']\n",
            " ['_' '_' '_']] \n",
            " You are 'O', computer = 'X' \n",
            "\n",
            "Enter Position (ROW COLUMN) :1 3\n",
            "[['_' '_' 'O']\n",
            " ['_' 'X' '_']\n",
            " ['_' '_' '_']]\n",
            "Enter Position (ROW COLUMN) :1 1\n",
            "[['O' 'X' 'O']\n",
            " ['_' 'X' '_']\n",
            " ['_' '_' '_']]\n",
            "Enter Position (ROW COLUMN) :3 2\n",
            "[['O' 'X' 'O']\n",
            " ['X' 'X' '_']\n",
            " ['_' 'O' '_']]\n",
            "Enter Position (ROW COLUMN) :2 3\n",
            "[['O' 'X' 'O']\n",
            " ['X' 'X' 'O']\n",
            " ['_' 'O' 'X']]\n",
            "Enter Position (ROW COLUMN) :3 1\n",
            "[['O' 'X' 'O']\n",
            " ['X' 'X' 'O']\n",
            " ['O' 'O' 'X']]\n",
            "DRAW\n"
          ],
          "name": "stdout"
        }
      ]
    },
    {
      "cell_type": "code",
      "metadata": {
        "id": "Dz_9Bj8hCPj5"
      },
      "source": [
        ""
      ],
      "execution_count": null,
      "outputs": []
    }
  ]
}